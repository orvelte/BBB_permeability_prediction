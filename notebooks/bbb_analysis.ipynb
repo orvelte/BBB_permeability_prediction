{
 "cells": [
  {
   "cell_type": "markdown",
   "metadata": {},
   "source": [
    "# Blood-Brain Barrier Permeability Analysis\n",
    "\n",
    "This notebook provides an interactive analysis of drug BBB permeability using molecular descriptors."
   ]
  },
  {
   "cell_type": "code",
   "execution_count": null,
   "metadata": {},
   "outputs": [],
   "source": [
    "# Import required libraries\n",
    "import sys\n",
    "import os\n",
    "sys.path.append('../src')\n",
    "\n",
    "import pandas as pd\n",
    "import numpy as np\n",
    "import matplotlib.pyplot as plt\n",
    "import seaborn as sns\n",
    "from rdkit import Chem\n",
    "from rdkit.Chem import Descriptors, Draw\n",
    "from rdkit.ML.Descriptors import MoleculeDescriptors\n",
    "from sklearn.preprocessing import StandardScaler\n",
    "from sklearn.decomposition import PCA\n",
    "\n",
    "# Set up plotting\n",
    "plt.style.use('seaborn-v0_8')\n",
    "%matplotlib inline"
   ]
  },
  {
   "cell_type": "markdown",
   "metadata": {},
   "source": [
    "## Load and Explore Data"
   ]
  },
  {
   "cell_type": "code",
   "execution_count": null,
   "metadata": {},
   "outputs": [],
   "source": [
    "# Load the dataset\n",
    "data_path = '../data/BBB_datasets.csv'\n",
    "if os.path.exists(data_path):\n",
    "    data_drug = pd.read_csv(data_path, encoding='latin-1')\n",
    "    print(f\"Dataset loaded: {data_drug.shape}\")\n",
    "    print(f\"Columns: {data_drug.columns.tolist()}\")\n",
    "    print(\"\\nFirst few rows:\")\n",
    "    display(data_drug.head())\n",
    "else:\n",
    "    print(\"Dataset not found. Please place BBB_datasets.csv in the data/ directory.\")\n",
    "    # Use sample data for demonstration\n",
    "    data_drug = pd.read_csv('../data/sample_data.csv')\n",
    "    print(\"Using sample data for demonstration.\")\n",
    "    display(data_drug.head())"
   ]
  },
  {
   "cell_type": "markdown",
   "metadata": {},
   "source": [
    "## Molecular Descriptor Calculation"
   ]
  },
  {
   "cell_type": "code",
   "execution_count": null,
   "metadata": {},
   "outputs": [],
   "source": [
    "# Calculate molecular descriptors\n",
    "mol_descriptors = []\n",
    "valid_indices = []\n",
    "\n",
    "print(\"Calculating molecular descriptors...\")\n",
    "for i, smile in enumerate(data_drug['SMILES']):\n",
    "    mol = Chem.MolFromSmiles(smile)\n",
    "    if mol is not None:\n",
    "        try:\n",
    "            calc = MoleculeDescriptors.MolecularDescriptorCalculator([x[0] for x in Descriptors._descList])\n",
    "            vector = calc.CalcDescriptors(mol)\n",
    "            mol_descriptors.append(vector)\n",
    "            valid_indices.append(i)\n",
    "        except Exception as e:\n",
    "            print(f\"Error processing SMILES {i}: {smile}\")\n",
    "    else:\n",
    "        print(f\"Invalid SMILES at index {i}: {smile}\")\n",
    "\n",
    "print(f\"Successfully processed {len(mol_descriptors)} molecules\")"
   ]
  },
  {
   "cell_type": "code",
   "execution_count": null,
   "metadata": {},
   "outputs": [],
   "source": [
    "# Create DataFrame with descriptors\n",
    "cols_mols = [x[0] for x in Descriptors._descList]\n",
    "desc_df = pd.DataFrame(mol_descriptors, columns=cols_mols)\n",
    "\n",
    "# Filter original data to match valid indices\n",
    "data_drug_filtered = data_drug.iloc[valid_indices].reset_index(drop=True)\n",
    "\n",
    "print(f\"Descriptor DataFrame shape: {desc_df.shape}\")\n",
    "print(f\"Filtered data shape: {data_drug_filtered.shape}\")"
   ]
  },
  {
   "cell_type": "markdown",
   "metadata": {},
   "source": [
    "## Exploratory Data Analysis"
   ]
  },
  {
   "cell_type": "code",
   "execution_count": null,
   "metadata": {},
   "outputs": [],
   "source": [
    "# Check for missing values\n",
    "missing_values = desc_df.isna().sum()\n",
    "print(f\"Features with missing values: {missing_values[missing_values > 0].shape[0]}\")\n",
    "\n",
    "# Remove rows with missing values\n",
    "desc_df_clean = desc_df.dropna().reset_index(drop=True)\n",
    "data_drug_clean = data_drug_filtered.iloc[desc_df_clean.index].reset_index(drop=True)\n",
    "\n",
    "print(f\"Clean dataset shape: {desc_df_clean.shape}\")\n",
    "print(f\"Class distribution:\")\n",
    "print(data_drug_clean['Class'].value_counts())"
   ]
  },
  {
   "cell_type": "code",
   "execution_count": null,
   "metadata": {},
   "outputs": [],
   "source": [
    "# Basic statistics\n",
    "desc_df_clean.describe()"
   ]
  },
  {
   "cell_type": "markdown",
   "metadata": {},
   "source": [
    "## Principal Component Analysis"
   ]
  },
  {
   "cell_type": "code",
   "execution_count": null,
   "metadata": {},
   "outputs": [],
   "source": [
    "# Standardize the data\n",
    "scaler = StandardScaler()\n",
    "desc_df_scaled = scaler.fit_transform(desc_df_clean)\n",
    "\n",
    "# Perform PCA\n",
    "pca = PCA(n_components=2)\n",
    "desc_df_pca = pca.fit_transform(desc_df_scaled)\n",
    "\n",
    "print(f\"Explained variance ratio: {pca.explained_variance_ratio_}\")\n",
    "print(f\"Total explained variance: {pca.explained_variance_ratio_.sum():.3f}\")"
   ]
  },
  {
   "cell_type": "code",
   "execution_count": null,
   "metadata": {},
   "outputs": [],
   "source": [
    "# Create PCA plot\n",
    "plt.figure(figsize=(10, 6))\n",
    "\n",
    "# Map class values to colors\n",
    "color_map = {'BBB+': 'red', 'BBB-': 'blue'}\n",
    "colors = [color_map.get(cls, 'gray') for cls in data_drug_clean['Class']]\n",
    "\n",
    "scatter = plt.scatter(desc_df_pca[:, 0], desc_df_pca[:, 1], c=colors, alpha=0.7)\n",
    "plt.xlabel(f'Principal Component 1 ({pca.explained_variance_ratio_[0]:.1%} variance)')\n",
    "plt.ylabel(f'Principal Component 2 ({pca.explained_variance_ratio_[1]:.1%} variance)')\n",
    "plt.title('PCA of Drug Descriptors')\n",
    "\n",
    "# Create legend\n",
    "from matplotlib.patches import Patch\n",
    "legend_elements = [Patch(facecolor=color, label=label) for label, color in color_map.items()]\n",
    "plt.legend(handles=legend_elements, title='BBB Permeability')\n",
    "\n",
    "plt.tight_layout()\n",
    "plt.show()"
   ]
  },
  {
   "cell_type": "markdown",
   "metadata": {},
   "source": [
    "## Feature Analysis"
   ]
  },
  {
   "cell_type": "code",
   "execution_count": null,
   "metadata": {},
   "outputs": [],
   "source": [
    "# Analyze key molecular descriptors\n",
    "key_descriptors = ['MolWt', 'LogP', 'NumHDonors', 'NumHAcceptors', 'TPSA', 'NumRotatableBonds']\n",
    "\n",
    "# Create subplots\n",
    "fig, axes = plt.subplots(2, 3, figsize=(15, 10))\n",
    "axes = axes.ravel()\n",
    "\n",
    "for i, desc in enumerate(key_descriptors):\n",
    "    if desc in desc_df_clean.columns:\n",
    "        # Create box plot\n",
    "        data_for_plot = []\n",
    "        labels = []\n",
    "        \n",
    "        for class_val in ['BBB+', 'BBB-']:\n",
    "            mask = data_drug_clean['Class'] == class_val\n",
    "            data_for_plot.append(desc_df_clean.loc[mask, desc])\n",
    "            labels.append(class_val)\n",
    "        \n",
    "        axes[i].boxplot(data_for_plot, labels=labels)\n",
    "        axes[i].set_title(f'{desc} Distribution')\n",
    "        axes[i].set_ylabel(desc)\n",
    "    else:\n",
    "        axes[i].text(0.5, 0.5, f'{desc} not found', ha='center', va='center')\n",
    "        axes[i].set_title(f'{desc} (Not Available)')\n",
    "\n",
    "plt.tight_layout()\n",
    "plt.show()"
   ]
  },
  {
   "cell_type": "markdown",
   "metadata": {},
   "source": [
    "## Machine Learning Model Implementation\n"
   ]
  },
  {
   "cell_type": "code",
   "execution_count": null,
   "metadata": {},
   "outputs": [],
   "source": [
    "# Import ML libraries\n",
    "from sklearn.model_selection import train_test_split, cross_val_score\n",
    "from sklearn.ensemble import RandomForestClassifier\n",
    "from sklearn.svm import SVC\n",
    "from sklearn.linear_model import LogisticRegression\n",
    "from sklearn.metrics import classification_report, confusion_matrix, accuracy_score, roc_auc_score, roc_curve\n",
    "from sklearn.preprocessing import LabelEncoder\n",
    "import joblib\n",
    "import os\n",
    "\n",
    "# Import our custom ML module\n",
    "sys.path.append('../src')\n",
    "from ml_models import BBBPredictor\n"
   ]
  },
  {
   "cell_type": "code",
   "execution_count": null,
   "metadata": {},
   "outputs": [],
   "source": [
    "# Prepare data for machine learning\n",
    "X = desc_df_scaled  # Already standardized features\n",
    "y = data_drug_clean['Class'].values  # BBB permeability labels\n",
    "\n",
    "# Initialize the BBB predictor\n",
    "predictor = BBBPredictor(random_state=42)\n",
    "\n",
    "# Prepare data\n",
    "X_train, X_test, y_train, y_test = predictor.prepare_data(\n",
    "    X, y, feature_names=desc_df_clean.columns.tolist()\n",
    ")\n"
   ]
  },
  {
   "cell_type": "code",
   "execution_count": null,
   "metadata": {},
   "outputs": [],
   "source": [
    "# Train models\n",
    "results = predictor.train_models(X_train, y_train)\n"
   ]
  },
  {
   "cell_type": "code",
   "execution_count": null,
   "metadata": {},
   "outputs": [],
   "source": [
    "# Evaluate models on test data\n",
    "evaluation_results = predictor.evaluate_models(X_test, y_test)\n"
   ]
  },
  {
   "cell_type": "code",
   "execution_count": null,
   "metadata": {},
   "outputs": [],
   "source": [
    "# Feature importance analysis\n",
    "predictor.plot_feature_importance(top_n=20)\n"
   ]
  },
  {
   "cell_type": "code",
   "execution_count": null,
   "metadata": {},
   "outputs": [],
   "source": [
    "# Model comparison\n",
    "predictor.plot_model_comparison()\n"
   ]
  },
  {
   "cell_type": "code",
   "execution_count": null,
   "metadata": {},
   "outputs": [],
   "source": [
    "# Confusion matrix for best model\n",
    "best_model_name = max(predictor.results.keys(), key=lambda x: predictor.results[x].get('accuracy', 0))\n",
    "y_pred_best = predictor.results[best_model_name]['predictions']\n",
    "\n",
    "plt.figure(figsize=(8, 6))\n",
    "cm = confusion_matrix(y_test, y_pred_best)\n",
    "sns.heatmap(cm, annot=True, fmt='d', cmap='Blues', \n",
    "            xticklabels=predictor.label_encoder.classes_, \n",
    "            yticklabels=predictor.label_encoder.classes_)\n",
    "plt.title(f'Confusion Matrix - {best_model_name}')\n",
    "plt.ylabel('True Label')\n",
    "plt.xlabel('Predicted Label')\n",
    "plt.tight_layout()\n",
    "plt.show()\n"
   ]
  },
  {
   "cell_type": "code",
   "execution_count": null,
   "metadata": {},
   "outputs": [],
   "source": [
    "# ROC Curve for best model\n",
    "best_model_name = max(predictor.results.keys(), key=lambda x: predictor.results[x].get('accuracy', 0))\n",
    "probabilities = predictor.results[best_model_name].get('probabilities')\n",
    "\n",
    "if probabilities is not None:\n",
    "    plt.figure(figsize=(8, 6))\n",
    "    fpr, tpr, _ = roc_curve(y_test, probabilities)\n",
    "    auc_score = roc_auc_score(y_test, probabilities)\n",
    "    \n",
    "    plt.plot(fpr, tpr, label=f'{best_model_name} (AUC = {auc_score:.3f})')\n",
    "    plt.plot([0, 1], [0, 1], 'k--', label='Random')\n",
    "    plt.xlabel('False Positive Rate')\n",
    "    plt.ylabel('True Positive Rate')\n",
    "    plt.title('ROC Curve')\n",
    "    plt.legend()\n",
    "    plt.tight_layout()\n",
    "    plt.show()\n",
    "else:\n",
    "    print(f\"Model {best_model_name} does not support probability predictions.\")\n"
   ]
  },
  {
   "cell_type": "code",
   "execution_count": null,
   "metadata": {},
   "outputs": [],
   "source": [
    "# Save models\n",
    "predictor.save_models('../results/models')\n",
    "\n",
    "print(f\"\\nBest performing model: {best_model_name}\")\n",
    "print(f\"Best accuracy: {predictor.results[best_model_name]['accuracy']:.3f}\")\n"
   ]
  },
  {
   "cell_type": "markdown",
   "metadata": {},
   "source": [
    "## Model Prediction Example\n",
    "\n",
    "Let's demonstrate how to use the trained model to predict BBB permeability for new molecules.\n"
   ]
  },
  {
   "cell_type": "code",
   "execution_count": null,
   "metadata": {},
   "outputs": [],
   "source": [
    "# Example: Predict BBB permeability for new molecules\n",
    "new_smiles = [\n",
    "    'CC(=O)OC1=CC=CC=C1C(=O)O',  # Aspirin\n",
    "    'CC1=CC=C(C=C1)C2=CC(=O)C3=C(O2)C(=O)C4=C(C3=O)C=CC=C4O',  # Complex molecule\n",
    "    'CN1C=NC2=C1C(=O)N(C(=O)N2C)C'  # Caffeine (known BBB+)\n",
    "]\n",
    "\n",
    "# Calculate descriptors for new molecules\n",
    "new_descriptors = []\n",
    "valid_smiles = []\n",
    "\n",
    "for smile in new_smiles:\n",
    "    mol = Chem.MolFromSmiles(smile)\n",
    "    if mol is not None:\n",
    "        try:\n",
    "            calc = MoleculeDescriptors.MolecularDescriptorCalculator([x[0] for x in Descriptors._descList])\n",
    "            vector = calc.CalcDescriptors(mol)\n",
    "            new_descriptors.append(vector)\n",
    "            valid_smiles.append(smile)\n",
    "        except Exception as e:\n",
    "            print(f\"Error processing SMILES: {smile}\")\n",
    "    else:\n",
    "        print(f\"Invalid SMILES: {smile}\")\n",
    "\n",
    "if new_descriptors:\n",
    "    # Create DataFrame and clean\n",
    "    new_desc_df = pd.DataFrame(new_descriptors, columns=desc_df_clean.columns)\n",
    "    new_desc_df = new_desc_df.dropna()\n",
    "    \n",
    "    # Make predictions\n",
    "    predictions = predictor.predict(new_desc_df.values)\n",
    "    probabilities = predictor.predict_proba(new_desc_df.values)\n",
    "    \n",
    "    # Display results\n",
    "    results_df = pd.DataFrame({\n",
    "        'SMILES': valid_smiles[:len(predictions)],\n",
    "        'Predicted_Class': predictions,\n",
    "        'BBB+_Probability': probabilities[:, 1],\n",
    "        'BBB-_Probability': probabilities[:, 0]\n",
    "    })\n",
    "    \n",
    "    print(\"Prediction Results:\")\n",
    "    display(results_df)\n",
    "else:\n",
    "    print(\"No valid molecules to predict.\")\n"
   ]
  },
  {
   "cell_type": "markdown",
   "metadata": {},
   "source": [
    "## Next Steps\n",
    "\n",
    "This analysis provides the foundation for machine learning model development:\n",
    "\n",
    "1. **Feature Selection**: Identify the most important descriptors\n",
    "2. **Model Training**: Implement classification algorithms (Random Forest, SVM, etc.)\n",
    "3. **Model Evaluation**: Cross-validation and performance metrics\n",
    "4. **Feature Importance**: Analyze which descriptors are most predictive"
   ]
  }
 ],
 "metadata": {
  "kernelspec": {
   "display_name": "Python 3",
   "language": "python",
   "name": "python3"
  },
  "language_info": {
   "codemirror_mode": {
    "name": "ipython",
    "version": 3
   },
   "file_extension": ".py",
   "mimetype": "text/x-python",
   "name": "python",
   "nbconvert_exporter": "python",
   "pygments_lexer": "ipython3",
   "version": "3.8.5"
  }
 },
 "nbformat": 4,
 "nbformat_minor": 4
}
